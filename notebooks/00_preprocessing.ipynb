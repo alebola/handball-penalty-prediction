{
  "cells": [
    {
      "cell_type": "code",
      "execution_count": null,
      "metadata": {
        "colab": {
          "base_uri": "https://localhost:8080/"
        },
        "id": "1rbmDThnStZA",
        "outputId": "a7cf812c-07df-42ae-d4ca-de7a977a84c8"
      },
      "outputs": [
        {
          "output_type": "stream",
          "name": "stdout",
          "text": [
            "Mounted at /content/drive\n"
          ]
        }
      ],
      "source": [
        "import os\n",
        "import pandas as pd\n",
        "import numpy as np\n",
        "import ast\n",
        "import random\n",
        "import torch\n",
        "import torch.nn as nn\n",
        "import torch.optim as optim\n",
        "from sklearn.preprocessing import StandardScaler\n",
        "from sklearn.model_selection import StratifiedKFold\n",
        "from sklearn.metrics import accuracy_score, f1_score, classification_report\n",
        "from torch.utils.data import Dataset, DataLoader\n",
        "\n",
        "def set_seed(seed=42):\n",
        "    random.seed(seed)\n",
        "    np.random.seed(seed)\n",
        "    torch.manual_seed(seed)\n",
        "    torch.cuda.manual_seed(seed)\n",
        "    torch.cuda.manual_seed_all(seed)\n",
        "    torch.backends.cudnn.deterministic = True\n",
        "    torch.backends.cudnn.benchmark = False\n",
        "\n",
        "from google.colab import drive\n",
        "drive.mount('/content/drive', force_remount=True)"
      ]
    },
    {
      "cell_type": "code",
      "execution_count": null,
      "metadata": {
        "id": "Dm8yElFUmUsP"
      },
      "outputs": [],
      "source": [
        "def cargar_embeddings(csv_path):\n",
        "    df = pd.read_csv(csv_path)\n",
        "    df = df[['video_id', 'features', 'label']].copy()\n",
        "    df['label'] = df['label'].replace(2, 1)\n",
        "    df['features'] = df['features'].apply(lambda x: np.array(ast.literal_eval(x)))\n",
        "    return df\n",
        "\n",
        "def cargar_folds(folds_path):\n",
        "    df_folds = pd.read_csv(folds_path)\n",
        "    df_folds.columns = ['fold', 'video_id', 'label']\n",
        "    return df_folds\n",
        "\n",
        "def datos_completos(df_embeddings, df_folds):\n",
        "    df = df_embeddings.merge(df_folds[['video_id', 'fold']], on='video_id', how='inner')\n",
        "    return df"
      ]
    },
    {
      "cell_type": "code",
      "source": [
        "def guardar_dataset_completo(df, nombre_embedding, carpeta,\n",
        "                             base_output_dir='/content/drive/MyDrive/DatosTFG/embeddings_normalizados'):\n",
        "    out_dir = os.path.join(base_output_dir, carpeta, nombre_embedding)\n",
        "    os.makedirs(out_dir, exist_ok=True)\n",
        "\n",
        "    X = np.stack(df['features'].values)\n",
        "    y = df['label'].values\n",
        "    folds = df['fold'].values\n",
        "\n",
        "    np.save(os.path.join(out_dir, 'X.npy'), X)\n",
        "    np.save(os.path.join(out_dir, 'y.npy'), y)\n",
        "    np.save(os.path.join(out_dir, 'folds.npy'), folds)\n",
        "\n",
        "    print(f\"Guardado dataset completo en {out_dir}\")"
      ],
      "metadata": {
        "id": "dGqq3vjXuxb1"
      },
      "execution_count": null,
      "outputs": []
    },
    {
      "cell_type": "markdown",
      "metadata": {
        "id": "vEVylA52DXNY"
      },
      "source": [
        "### Generar y guardar folds de embeddings individualmente"
      ]
    },
    {
      "cell_type": "code",
      "execution_count": null,
      "metadata": {
        "id": "liVWFyVo1-Uh"
      },
      "outputs": [],
      "source": [
        "# Rutas\n",
        "carpeta = '8f_0o'   # Nombre de la carpeta donde se encuentran los embeddings sin procesar: 32f_0o, 16f_0o, 8f_0o, 32f_2o, 32f_4o ó 32f_6o\n",
        "embedding_path = f'/content/drive/MyDrive/DatosTFG/{carpeta}/slow_8x8_embeddings.csv'    # Ruta del embedding a procesar\n",
        "folds_path = '/content/drive/MyDrive/DatosTFG/experiment_folds.csv'\n",
        "nombre_embedding = 'slow_8x8'   # Nombre para la carpeta donde se guardarán los folds de ese embedding\n",
        "\n",
        "# Ejecución\n",
        "set_seed(42)\n",
        "df_embeddings = cargar_embeddings(embedding_path)\n",
        "df_folds = cargar_folds(folds_path)\n",
        "df_completo = datos_completos(df_embeddings, df_folds)\n",
        "guardar_dataset_completo(df_completo, nombre_embedding, carpeta)"
      ]
    },
    {
      "cell_type": "markdown",
      "metadata": {
        "id": "dOwfE9TCDbfB"
      },
      "source": [
        "### Generar y guardar folds de dos embeddings fusionados"
      ]
    },
    {
      "cell_type": "code",
      "execution_count": null,
      "metadata": {
        "id": "6cyEj-Y8Drmg"
      },
      "outputs": [],
      "source": [
        "def fusionar_embeddings(df1, df2, feat_col_1='features', feat_col_2='features'):\n",
        "    df1 = df1.sort_values('video_id').reset_index(drop=True)\n",
        "    df2 = df2.sort_values('video_id').reset_index(drop=True)\n",
        "    assert df1['video_id'].tolist() == df2['video_id'].tolist(), \"video_id desalineados\"\n",
        "\n",
        "    concatenados = [\n",
        "        np.concatenate([f1, f2], axis=1)\n",
        "        for f1, f2 in zip(df1[feat_col_1], df2[feat_col_2])\n",
        "    ]\n",
        "\n",
        "    return pd.DataFrame({\n",
        "        'video_id': df1['video_id'],\n",
        "        'features': concatenados,\n",
        "        'label': df1['label']\n",
        "    })"
      ]
    },
    {
      "cell_type": "code",
      "source": [
        "carpeta = '32f_6o'    # Nombre de la carpeta donde se encuentran los embeddings sin procesar: 32f_0o, 16f_0o, 8f_0o, 32f_2o, 32f_4o ó 32f_6o\n",
        "csv_path_1 = f'/content/drive/MyDrive/DatosTFG/{carpeta}/slowfast_4x16_nln_embeddings.csv'    # Ruta del primer embedding de la fusión\n",
        "csv_path_2 = f'/content/drive/MyDrive/DatosTFG/{carpeta}/i3d_nln_101_embeddings.csv'    # Ruta del segundo embedding de la fusión\n",
        "folds_path = '/content/drive/MyDrive/DatosTFG/experiment_folds.csv'\n",
        "nombre_embedding = 'fusion_slowfast4x16nln_i3dnln101'   # Nombre de la carpeta donde se guardarán los folds de la fusión\n",
        "\n",
        "set_seed(42)\n",
        "\n",
        "df_folds = cargar_folds(folds_path)\n",
        "df_1 = cargar_embeddings(csv_path_1)\n",
        "df_2 = cargar_embeddings(csv_path_2)\n",
        "\n",
        "df_fusion = fusionar_embeddings(df_1, df_2)\n",
        "df_fusion_completo = datos_completos(df_fusion, df_folds)\n",
        "\n",
        "guardar_dataset_completo(df_fusion_completo, nombre_embedding, carpeta)"
      ],
      "metadata": {
        "id": "hICbWRC6vjuo",
        "colab": {
          "base_uri": "https://localhost:8080/"
        },
        "outputId": "9fd56de2-76e8-4b94-f86e-dc33d0273607"
      },
      "execution_count": null,
      "outputs": [
        {
          "output_type": "stream",
          "name": "stdout",
          "text": [
            "Guardado dataset completo en /content/drive/MyDrive/DatosTFG/embeddings_normalizados/32f_6o/fusion_slowfast4x16nln_i3dnln101\n"
          ]
        }
      ]
    }
  ],
  "metadata": {
    "colab": {
      "provenance": []
    },
    "kernelspec": {
      "display_name": "Python 3",
      "name": "python3"
    },
    "language_info": {
      "name": "python"
    }
  },
  "nbformat": 4,
  "nbformat_minor": 0
}